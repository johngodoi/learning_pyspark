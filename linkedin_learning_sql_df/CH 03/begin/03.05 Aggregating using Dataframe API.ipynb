{
 "cells": [
  {
   "cell_type": "code",
   "execution_count": 1,
   "outputs": [],
   "source": [
    "from pyspark.sql import SparkSession\n",
    "spark = SparkSession.builder.getOrCreate()"
   ],
   "metadata": {
    "collapsed": false,
    "pycharm": {
     "name": "#%%\n",
     "is_executing": false
    }
   }
  },
  {
   "cell_type": "code",
   "execution_count": 2,
   "metadata": {
    "collapsed": true,
    "pycharm": {
     "is_executing": false
    }
   },
   "outputs": [],
   "source": [
    "data_path = '../../Data'"
   ]
  },
  {
   "cell_type": "code",
   "execution_count": 3,
   "metadata": {
    "collapsed": true,
    "pycharm": {
     "is_executing": false
    }
   },
   "outputs": [],
   "source": [
    "file_path = data_path + \"/location_temp.csv\"\n",
    "df1 = spark.read.format(\"csv\").option(\"header\", \"true\").load(file_path)"
   ]
  },
  {
   "cell_type": "code",
   "execution_count": 4,
   "metadata": {
    "pycharm": {
     "is_executing": false
    }
   },
   "outputs": [
    {
     "name": "stdout",
     "text": [
      "+-------------------+-----------+------------+\n|         event_date|location_id|temp_celcius|\n+-------------------+-----------+------------+\n|03/04/2019 19:48:06|       loc0|          29|\n|03/04/2019 19:53:06|       loc0|          27|\n|03/04/2019 19:58:06|       loc0|          28|\n|03/04/2019 20:03:06|       loc0|          30|\n|03/04/2019 20:08:06|       loc0|          27|\n|03/04/2019 20:13:06|       loc0|          27|\n|03/04/2019 20:18:06|       loc0|          27|\n|03/04/2019 20:23:06|       loc0|          29|\n|03/04/2019 20:28:06|       loc0|          32|\n|03/04/2019 20:33:06|       loc0|          35|\n+-------------------+-----------+------------+\nonly showing top 10 rows\n\n"
     ],
     "output_type": "stream"
    }
   ],
   "source": [
    "df1.show(10)"
   ]
  },
  {
   "cell_type": "code",
   "execution_count": 5,
   "metadata": {
    "pycharm": {
     "is_executing": false
    }
   },
   "outputs": [
    {
     "name": "stdout",
     "text": [
      "+-----------+-----+\n|location_id|count|\n+-----------+-----+\n|     loc196| 1000|\n|     loc226| 1000|\n|     loc463| 1000|\n|     loc150| 1000|\n|     loc292| 1000|\n|     loc311| 1000|\n|      loc22| 1000|\n|     loc351| 1000|\n|     loc370| 1000|\n|     loc419| 1000|\n|      loc31| 1000|\n|     loc305| 1000|\n|      loc82| 1000|\n|      loc90| 1000|\n|     loc118| 1000|\n|     loc195| 1000|\n|     loc208| 1000|\n|      loc39| 1000|\n|      loc75| 1000|\n|     loc228| 1000|\n+-----------+-----+\nonly showing top 20 rows\n\n"
     ],
     "output_type": "stream"
    }
   ],
   "source": [
    "df1.groupBy(\"location_id\").count().show()"
   ]
  },
  {
   "cell_type": "code",
   "execution_count": 6,
   "metadata": {
    "pycharm": {
     "is_executing": false
    }
   },
   "outputs": [
    {
     "name": "stdout",
     "text": [
      "+-------------------+-----------+------------+\n|         event_date|location_id|temp_celcius|\n+-------------------+-----------+------------+\n|03/04/2019 20:33:06|       loc0|          35|\n|03/04/2019 20:13:06|       loc0|          27|\n|03/04/2019 20:28:06|       loc0|          32|\n|03/04/2019 19:58:06|       loc0|          28|\n|03/04/2019 20:08:06|       loc0|          27|\n|03/04/2019 20:18:06|       loc0|          27|\n|03/04/2019 20:23:06|       loc0|          29|\n|03/04/2019 19:48:06|       loc0|          29|\n|03/04/2019 19:53:06|       loc0|          27|\n|03/04/2019 20:03:06|       loc0|          30|\n+-------------------+-----------+------------+\nonly showing top 10 rows\n\n"
     ],
     "output_type": "stream"
    }
   ],
   "source": [
    "df1.orderBy(\"location_id\").show(10)"
   ]
  },
  {
   "cell_type": "code",
   "execution_count": 7,
   "metadata": {
    "pycharm": {
     "is_executing": false
    }
   },
   "outputs": [
    {
     "name": "stdout",
     "text": [
      "+-----------+-----------------+\n|location_id|avg(temp_celcius)|\n+-----------+-----------------+\n|     loc196|           29.225|\n|     loc226|           25.306|\n|     loc463|           23.317|\n|     loc150|           32.188|\n|     loc292|           29.159|\n|     loc311|           24.308|\n|      loc22|           28.251|\n|     loc351|           28.194|\n|     loc370|            29.14|\n|     loc419|           29.141|\n|      loc31|           25.196|\n|     loc305|           27.314|\n|      loc82|           27.355|\n|      loc90|           23.216|\n|     loc118|           24.219|\n|     loc195|            27.25|\n|     loc208|           26.206|\n|      loc39|           25.199|\n|      loc75|           23.209|\n|     loc228|           27.295|\n+-----------+-----------------+\nonly showing top 20 rows\n\n"
     ],
     "output_type": "stream"
    }
   ],
   "source": [
    "df1.groupby('location_id').agg({'temp_celcius': 'mean'}).show()"
   ]
  },
  {
   "cell_type": "code",
   "execution_count": 8,
   "metadata": {
    "pycharm": {
     "is_executing": false
    }
   },
   "outputs": [
    {
     "name": "stdout",
     "text": [
      "+-----------+-----------------+\n|location_id|max(temp_celcius)|\n+-----------+-----------------+\n|     loc196|               36|\n|     loc226|               32|\n|     loc463|               30|\n|     loc150|               39|\n|     loc292|               36|\n|     loc311|               31|\n|      loc22|               35|\n|     loc351|               35|\n|     loc370|               36|\n|     loc419|               36|\n|     loc305|               34|\n|      loc31|               32|\n|     loc118|               31|\n|     loc195|               34|\n|     loc208|               33|\n|      loc82|               34|\n|      loc90|               30|\n|     loc228|               34|\n|      loc39|               32|\n|      loc75|               30|\n+-----------+-----------------+\nonly showing top 20 rows\n\n"
     ],
     "output_type": "stream"
    }
   ],
   "source": [
    "df1.groupby('location_id').agg({'temp_celcius': 'max'}).show()"
   ]
  },
  {
   "cell_type": "code",
   "execution_count": 10,
   "outputs": [
    {
     "name": "stdout",
     "text": [
      "+-----------+-----------------+\n|location_id|min(temp_celcius)|\n+-----------+-----------------+\n|       loc0|               27|\n|       loc1|               26|\n|      loc10|               23|\n|     loc100|               25|\n|     loc101|               23|\n|     loc102|               28|\n|     loc103|               23|\n|     loc104|               24|\n|     loc105|               24|\n|     loc106|               25|\n|     loc107|               31|\n|     loc108|               30|\n|     loc109|               22|\n|      loc11|               23|\n|     loc110|               24|\n|     loc111|               29|\n|     loc112|               31|\n|     loc113|               28|\n|     loc114|               27|\n|     loc115|               21|\n+-----------+-----------------+\nonly showing top 20 rows\n\n"
     ],
     "output_type": "stream"
    }
   ],
   "source": [
    "df1.groupBy('location_id').agg({'temp_celcius': 'min'}).sort('location_id').show()\n"
   ],
   "metadata": {
    "collapsed": false,
    "pycharm": {
     "name": "#%%\n",
     "is_executing": false
    }
   }
  }
 ],
 "metadata": {
  "kernelspec": {
   "display_name": "Python 3",
   "language": "python",
   "name": "python3"
  },
  "language_info": {
   "codemirror_mode": {
    "name": "ipython",
    "version": 3
   },
   "file_extension": ".py",
   "mimetype": "text/x-python",
   "name": "python",
   "nbconvert_exporter": "python",
   "pygments_lexer": "ipython3",
   "version": "3.6.1"
  },
  "pycharm": {
   "stem_cell": {
    "cell_type": "raw",
    "source": [],
    "metadata": {
     "collapsed": false
    }
   }
  }
 },
 "nbformat": 4,
 "nbformat_minor": 2
}