{
 "cells": [
  {
   "cell_type": "code",
   "execution_count": 1,
   "outputs": [],
   "source": [
    "from pyspark.sql import SparkSession\n",
    "spark = SparkSession.builder.getOrCreate()"
   ],
   "metadata": {
    "collapsed": false,
    "pycharm": {
     "name": "#%%\n",
     "is_executing": false
    }
   }
  },
  {
   "cell_type": "code",
   "execution_count": 2,
   "metadata": {
    "collapsed": true,
    "pycharm": {
     "is_executing": false
    }
   },
   "outputs": [],
   "source": [
    "data_path = '../../Data'"
   ]
  },
  {
   "cell_type": "code",
   "execution_count": 3,
   "metadata": {
    "collapsed": true,
    "pycharm": {
     "is_executing": false
    }
   },
   "outputs": [],
   "source": [
    "json_df2_path = data_path + \"/utilization.json\"\n",
    "df2 = spark.read.format(\"json\").load(json_df2_path)"
   ]
  },
  {
   "cell_type": "code",
   "execution_count": 4,
   "metadata": {
    "pycharm": {
     "is_executing": false
    }
   },
   "outputs": [
    {
     "data": {
      "text/plain": "[Row(cpu_utilization=0.77, event_datetime='03/16/2019 17:21:40', free_memory=0.22, server_id=115, session_count=58),\n Row(cpu_utilization=0.53, event_datetime='03/16/2019 17:26:40', free_memory=0.23, server_id=115, session_count=64),\n Row(cpu_utilization=0.6, event_datetime='03/16/2019 17:31:40', free_memory=0.19, server_id=115, session_count=82),\n Row(cpu_utilization=0.46, event_datetime='03/16/2019 17:36:40', free_memory=0.32, server_id=115, session_count=60),\n Row(cpu_utilization=0.77, event_datetime='03/16/2019 17:41:40', free_memory=0.49, server_id=115, session_count=84),\n Row(cpu_utilization=0.62, event_datetime='03/16/2019 17:46:40', free_memory=0.31, server_id=115, session_count=73),\n Row(cpu_utilization=0.71, event_datetime='03/16/2019 17:51:40', free_memory=0.54, server_id=115, session_count=67),\n Row(cpu_utilization=0.67, event_datetime='03/16/2019 17:56:40', free_memory=0.54, server_id=115, session_count=83),\n Row(cpu_utilization=0.72, event_datetime='03/16/2019 18:01:40', free_memory=0.26, server_id=115, session_count=68),\n Row(cpu_utilization=0.62, event_datetime='03/16/2019 18:06:40', free_memory=0.52, server_id=115, session_count=60),\n Row(cpu_utilization=0.58, event_datetime='03/16/2019 18:11:40', free_memory=0.23, server_id=115, session_count=60),\n Row(cpu_utilization=0.51, event_datetime='03/16/2019 18:16:40', free_memory=0.35, server_id=115, session_count=62),\n Row(cpu_utilization=0.54, event_datetime='03/16/2019 18:21:40', free_memory=0.33, server_id=115, session_count=78),\n Row(cpu_utilization=0.84, event_datetime='03/16/2019 18:26:40', free_memory=0.35, server_id=115, session_count=66),\n Row(cpu_utilization=0.65, event_datetime='03/16/2019 18:31:40', free_memory=0.51, server_id=115, session_count=89),\n Row(cpu_utilization=0.8, event_datetime='03/16/2019 18:36:40', free_memory=0.25, server_id=115, session_count=76),\n Row(cpu_utilization=0.66, event_datetime='03/16/2019 18:41:40', free_memory=0.41, server_id=115, session_count=87),\n Row(cpu_utilization=0.67, event_datetime='03/16/2019 18:46:40', free_memory=0.36, server_id=115, session_count=62),\n Row(cpu_utilization=0.63, event_datetime='03/16/2019 18:51:40', free_memory=0.54, server_id=115, session_count=67),\n Row(cpu_utilization=0.51, event_datetime='03/16/2019 18:56:40', free_memory=0.51, server_id=115, session_count=58)]"
     },
     "metadata": {},
     "output_type": "execute_result",
     "execution_count": 4
    }
   ],
   "source": [
    "df2.head(20)"
   ]
  },
  {
   "cell_type": "code",
   "execution_count": 5,
   "metadata": {
    "pycharm": {
     "is_executing": false
    }
   },
   "outputs": [
    {
     "name": "stdout",
     "text": [
      "+---------------+-------------------+-----------+---------+-------------+\n|cpu_utilization|     event_datetime|free_memory|server_id|session_count|\n+---------------+-------------------+-----------+---------+-------------+\n|           0.77|03/16/2019 17:21:40|       0.22|      115|           58|\n|           0.53|03/16/2019 17:26:40|       0.23|      115|           64|\n|            0.6|03/16/2019 17:31:40|       0.19|      115|           82|\n|           0.46|03/16/2019 17:36:40|       0.32|      115|           60|\n|           0.77|03/16/2019 17:41:40|       0.49|      115|           84|\n|           0.62|03/16/2019 17:46:40|       0.31|      115|           73|\n|           0.71|03/16/2019 17:51:40|       0.54|      115|           67|\n|           0.67|03/16/2019 17:56:40|       0.54|      115|           83|\n|           0.72|03/16/2019 18:01:40|       0.26|      115|           68|\n|           0.62|03/16/2019 18:06:40|       0.52|      115|           60|\n+---------------+-------------------+-----------+---------+-------------+\nonly showing top 10 rows\n\n"
     ],
     "output_type": "stream"
    }
   ],
   "source": [
    "df2.show(10)"
   ]
  },
  {
   "cell_type": "code",
   "execution_count": 6,
   "metadata": {
    "pycharm": {
     "is_executing": false
    }
   },
   "outputs": [
    {
     "data": {
      "text/plain": "500000"
     },
     "metadata": {},
     "output_type": "execute_result",
     "execution_count": 6
    }
   ],
   "source": [
    "df2.count()"
   ]
  },
  {
   "cell_type": "code",
   "execution_count": 7,
   "metadata": {
    "pycharm": {
     "is_executing": false
    }
   },
   "outputs": [
    {
     "data": {
      "text/plain": "['cpu_utilization',\n 'event_datetime',\n 'free_memory',\n 'server_id',\n 'session_count']"
     },
     "metadata": {},
     "output_type": "execute_result",
     "execution_count": 7
    }
   ],
   "source": [
    "df2.columns"
   ]
  },
  {
   "cell_type": "code",
   "execution_count": 8,
   "metadata": {
    "pycharm": {
     "is_executing": false
    }
   },
   "outputs": [
    {
     "data": {
      "text/plain": "DataFrame[summary: string, cpu_utilization: string, event_datetime: string, free_memory: string, server_id: string, session_count: string]"
     },
     "metadata": {},
     "output_type": "execute_result",
     "execution_count": 8
    }
   ],
   "source": [
    "df2.describe()"
   ]
  },
  {
   "cell_type": "code",
   "execution_count": 9,
   "metadata": {
    "collapsed": true,
    "pycharm": {
     "is_executing": false
    }
   },
   "outputs": [],
   "source": [
    "df2_sample = df2.sample(False,fraction=0.1)"
   ]
  },
  {
   "cell_type": "code",
   "execution_count": 10,
   "metadata": {
    "pycharm": {
     "is_executing": false
    }
   },
   "outputs": [
    {
     "name": "stdout",
     "text": [
      "+---------------+-------------------+-----------+---------+-------------+\n|cpu_utilization|     event_datetime|free_memory|server_id|session_count|\n+---------------+-------------------+-----------+---------+-------------+\n|           0.46|03/16/2019 17:36:40|       0.32|      115|           60|\n|           0.54|03/16/2019 18:21:40|       0.33|      115|           78|\n|           0.84|03/16/2019 18:26:40|       0.35|      115|           66|\n|           0.63|03/16/2019 19:41:40|       0.25|      115|           84|\n|           0.73|03/16/2019 19:46:40|        0.4|      115|           77|\n|           0.53|03/16/2019 22:36:40|       0.42|      115|           78|\n|           0.61|03/16/2019 22:46:40|       0.45|      115|           79|\n|           0.73|03/17/2019 01:16:40|        0.4|      115|           68|\n|           0.81|03/17/2019 01:56:40|        0.4|      115|           79|\n|           0.53|03/17/2019 03:01:40|       0.34|      115|           85|\n+---------------+-------------------+-----------+---------+-------------+\nonly showing top 10 rows\n\n"
     ],
     "output_type": "stream"
    }
   ],
   "source": [
    "df2_sample.show(10)"
   ]
  },
  {
   "cell_type": "code",
   "execution_count": 12,
   "metadata": {
    "collapsed": true,
    "pycharm": {
     "is_executing": false
    }
   },
   "outputs": [],
   "source": [
    "df2_sort = df2_sample.sort('event_datetime')"
   ]
  },
  {
   "cell_type": "code",
   "execution_count": 13,
   "metadata": {
    "pycharm": {
     "is_executing": false
    }
   },
   "outputs": [
    {
     "name": "stdout",
     "text": [
      "+---------------+-------------------+-----------+---------+-------------+\n|cpu_utilization|     event_datetime|free_memory|server_id|session_count|\n+---------------+-------------------+-----------+---------+-------------+\n|           0.64|03/05/2019 08:06:19|       0.32|      103|           96|\n|           0.68|03/05/2019 08:06:31|       0.44|      110|           47|\n|           0.78|03/05/2019 08:06:40|       0.22|      115|           62|\n|           0.72|03/05/2019 08:06:58|       0.18|      126|           58|\n|           0.52|03/05/2019 08:07:00|       0.49|      127|           75|\n|           0.57|03/05/2019 08:07:13|       0.42|      134|           46|\n|           0.58|03/05/2019 08:11:48|       0.38|      120|           64|\n|           0.63|03/05/2019 08:11:56|       0.34|      125|           72|\n|           0.34|03/05/2019 08:12:13|       0.64|      134|           73|\n|           0.64|03/05/2019 08:12:23|        0.3|      139|           96|\n|           0.48|03/05/2019 08:12:25|       0.36|      140|           65|\n|           0.57|03/05/2019 08:16:21|       0.19|      104|           90|\n|           0.44|03/05/2019 08:16:33|       0.37|      111|           81|\n|           0.78|03/05/2019 08:16:58|       0.31|      126|           73|\n|           0.65|03/05/2019 08:17:33|        0.3|      144|           86|\n|           0.26|03/05/2019 08:21:24|       0.45|      106|           38|\n|           0.69|03/05/2019 08:21:28|       0.44|      108|           68|\n|            0.7|03/05/2019 08:21:48|       0.35|      120|           80|\n|           0.57|03/05/2019 08:21:54|       0.57|      124|           37|\n|            0.6|03/05/2019 08:22:44|       0.08|      149|           81|\n+---------------+-------------------+-----------+---------+-------------+\nonly showing top 20 rows\n\n"
     ],
     "output_type": "stream"
    }
   ],
   "source": [
    "df2_sort.show()"
   ]
  },
  {
   "cell_type": "code",
   "execution_count": 14,
   "metadata": {
    "pycharm": {
     "is_executing": false
    }
   },
   "outputs": [
    {
     "name": "stdout",
     "text": [
      "+-------+-------------------+-------------------+-------------------+-----------------+------------------+\n|summary|    cpu_utilization|     event_datetime|        free_memory|        server_id|     session_count|\n+-------+-------------------+-------------------+-------------------+-----------------+------------------+\n|  count|             500000|             500000|             500000|           500000|            500000|\n|   mean| 0.6205177399999874|               null|  0.379128099999989|            124.5|          69.59616|\n| stddev|0.15875173872912948|               null|0.15830931278376226|14.43088412055312|14.850676696352853|\n|    min|               0.22|03/05/2019 08:06:14|                0.0|              100|                32|\n|    max|                1.0|04/09/2019 01:22:46|               0.78|              149|               105|\n+-------+-------------------+-------------------+-------------------+-----------------+------------------+\n\n"
     ],
     "output_type": "stream"
    }
   ],
   "source": [
    "df2.describe().show()"
   ]
  },
  {
   "cell_type": "code",
   "execution_count": null,
   "metadata": {
    "collapsed": true
   },
   "outputs": [],
   "source": [
    "df"
   ]
  }
 ],
 "metadata": {
  "kernelspec": {
   "display_name": "Python 3",
   "language": "python",
   "name": "python3"
  },
  "language_info": {
   "codemirror_mode": {
    "name": "ipython",
    "version": 3
   },
   "file_extension": ".py",
   "mimetype": "text/x-python",
   "name": "python",
   "nbconvert_exporter": "python",
   "pygments_lexer": "ipython3",
   "version": "3.6.1"
  },
  "pycharm": {
   "stem_cell": {
    "cell_type": "raw",
    "source": [],
    "metadata": {
     "collapsed": false
    }
   }
  }
 },
 "nbformat": 4,
 "nbformat_minor": 2
}