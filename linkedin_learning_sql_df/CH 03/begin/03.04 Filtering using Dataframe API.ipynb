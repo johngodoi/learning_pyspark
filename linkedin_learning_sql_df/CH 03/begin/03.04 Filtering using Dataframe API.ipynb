{
 "cells": [
  {
   "cell_type": "code",
   "execution_count": 3,
   "outputs": [],
   "source": [
    "from pyspark.sql import SparkSession\n",
    "spark = SparkSession.builder.getOrCreate()"
   ],
   "metadata": {
    "collapsed": false,
    "pycharm": {
     "name": "#%%\n",
     "is_executing": false
    }
   }
  },
  {
   "cell_type": "code",
   "execution_count": 2,
   "metadata": {
    "collapsed": true,
    "pycharm": {
     "is_executing": false
    }
   },
   "outputs": [],
   "source": [
    "data_path = '../../Data'"
   ]
  },
  {
   "cell_type": "code",
   "execution_count": 4,
   "metadata": {
    "collapsed": true,
    "pycharm": {
     "is_executing": false
    }
   },
   "outputs": [],
   "source": [
    "file_path = data_path + \"/location_temp.csv\"\n",
    "df1 = spark.read.format(\"csv\").option(\"header\", \"true\").load(file_path)"
   ]
  },
  {
   "cell_type": "code",
   "execution_count": 5,
   "metadata": {
    "pycharm": {
     "is_executing": false
    }
   },
   "outputs": [
    {
     "name": "stdout",
     "text": [
      "+-------------------+-----------+------------+\n|         event_date|location_id|temp_celcius|\n+-------------------+-----------+------------+\n|03/04/2019 19:48:06|       loc0|          29|\n|03/04/2019 19:53:06|       loc0|          27|\n|03/04/2019 19:58:06|       loc0|          28|\n|03/04/2019 20:03:06|       loc0|          30|\n|03/04/2019 20:08:06|       loc0|          27|\n|03/04/2019 20:13:06|       loc0|          27|\n|03/04/2019 20:18:06|       loc0|          27|\n|03/04/2019 20:23:06|       loc0|          29|\n|03/04/2019 20:28:06|       loc0|          32|\n|03/04/2019 20:33:06|       loc0|          35|\n+-------------------+-----------+------------+\nonly showing top 10 rows\n\n"
     ],
     "output_type": "stream"
    }
   ],
   "source": [
    "df1.show(10)"
   ]
  },
  {
   "cell_type": "code",
   "execution_count": 6,
   "metadata": {
    "pycharm": {
     "is_executing": false
    }
   },
   "outputs": [
    {
     "name": "stdout",
     "text": [
      "+-------------------+-----------+------------+\n|         event_date|location_id|temp_celcius|\n+-------------------+-----------+------------+\n|03/04/2019 19:48:06|       loc0|          29|\n|03/04/2019 19:53:06|       loc0|          27|\n|03/04/2019 19:58:06|       loc0|          28|\n|03/04/2019 20:03:06|       loc0|          30|\n|03/04/2019 20:08:06|       loc0|          27|\n|03/04/2019 20:13:06|       loc0|          27|\n|03/04/2019 20:18:06|       loc0|          27|\n|03/04/2019 20:23:06|       loc0|          29|\n|03/04/2019 20:28:06|       loc0|          32|\n|03/04/2019 20:33:06|       loc0|          35|\n|03/04/2019 20:38:06|       loc0|          32|\n|03/04/2019 20:43:06|       loc0|          28|\n|03/04/2019 20:48:06|       loc0|          28|\n|03/04/2019 20:53:06|       loc0|          32|\n|03/04/2019 20:58:06|       loc0|          34|\n|03/04/2019 21:03:06|       loc0|          33|\n|03/04/2019 21:08:06|       loc0|          27|\n|03/04/2019 21:13:06|       loc0|          28|\n|03/04/2019 21:18:06|       loc0|          33|\n|03/04/2019 21:23:06|       loc0|          28|\n+-------------------+-----------+------------+\nonly showing top 20 rows\n\n"
     ],
     "output_type": "stream"
    }
   ],
   "source": [
    "df1.filter(df1[\"location_id\"]==\"loc0\").show()"
   ]
  },
  {
   "cell_type": "code",
   "execution_count": 8,
   "metadata": {
    "pycharm": {
     "is_executing": false
    }
   },
   "outputs": [
    {
     "data": {
      "text/plain": "1000"
     },
     "metadata": {},
     "output_type": "execute_result",
     "execution_count": 8
    }
   ],
   "source": [
    "df1.filter(df1[\"location_id\"]==\"loc0\").count()"
   ]
  },
  {
   "cell_type": "code",
   "execution_count": 9,
   "metadata": {
    "pycharm": {
     "is_executing": false
    }
   },
   "outputs": [
    {
     "data": {
      "text/plain": "1000"
     },
     "metadata": {},
     "output_type": "execute_result",
     "execution_count": 9
    }
   ],
   "source": [
    "df1.filter(df1[\"location_id\"]==\"loc1\").count()"
   ]
  },
  {
   "cell_type": "code",
   "execution_count": 10,
   "metadata": {
    "pycharm": {
     "is_executing": false
    }
   },
   "outputs": [
    {
     "name": "stdout",
     "text": [
      "+-------------------+-----------+------------+\n|         event_date|location_id|temp_celcius|\n+-------------------+-----------+------------+\n|03/04/2019 19:48:06|       loc1|          31|\n|03/04/2019 19:53:06|       loc1|          26|\n|03/04/2019 19:58:06|       loc1|          31|\n|03/04/2019 20:03:06|       loc1|          26|\n|03/04/2019 20:08:06|       loc1|          28|\n|03/04/2019 20:13:06|       loc1|          27|\n|03/04/2019 20:18:06|       loc1|          30|\n|03/04/2019 20:23:06|       loc1|          28|\n|03/04/2019 20:28:06|       loc1|          28|\n|03/04/2019 20:33:06|       loc1|          27|\n|03/04/2019 20:38:06|       loc1|          30|\n|03/04/2019 20:43:06|       loc1|          32|\n|03/04/2019 20:48:06|       loc1|          26|\n|03/04/2019 20:53:06|       loc1|          30|\n|03/04/2019 20:58:06|       loc1|          26|\n|03/04/2019 21:03:06|       loc1|          28|\n|03/04/2019 21:08:06|       loc1|          27|\n|03/04/2019 21:13:06|       loc1|          28|\n|03/04/2019 21:18:06|       loc1|          27|\n|03/04/2019 21:23:06|       loc1|          26|\n+-------------------+-----------+------------+\nonly showing top 20 rows\n\n"
     ],
     "output_type": "stream"
    }
   ],
   "source": [
    "df1.filter(\"location_id = 'loc1'\").show()"
   ]
  }
 ],
 "metadata": {
  "kernelspec": {
   "display_name": "Python 3",
   "language": "python",
   "name": "python3"
  },
  "language_info": {
   "codemirror_mode": {
    "name": "ipython",
    "version": 3
   },
   "file_extension": ".py",
   "mimetype": "text/x-python",
   "name": "python",
   "nbconvert_exporter": "python",
   "pygments_lexer": "ipython3",
   "version": "3.6.1"
  },
  "pycharm": {
   "stem_cell": {
    "cell_type": "raw",
    "source": [],
    "metadata": {
     "collapsed": false
    }
   }
  }
 },
 "nbformat": 4,
 "nbformat_minor": 2
}