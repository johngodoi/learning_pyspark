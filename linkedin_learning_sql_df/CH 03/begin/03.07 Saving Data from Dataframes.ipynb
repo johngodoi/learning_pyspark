{
 "cells": [
  {
   "cell_type": "code",
   "execution_count": 1,
   "outputs": [],
   "source": [
    "from pyspark.sql import SparkSession\n",
    "spark = SparkSession.builder.getOrCreate()"
   ],
   "metadata": {
    "collapsed": false,
    "pycharm": {
     "name": "#%%\n",
     "is_executing": false
    }
   }
  },
  {
   "cell_type": "code",
   "execution_count": 12,
   "metadata": {
    "collapsed": true,
    "pycharm": {
     "is_executing": false
    }
   },
   "outputs": [],
   "source": [
    "data_path = '../../Data'"
   ]
  },
  {
   "cell_type": "code",
   "execution_count": 14,
   "metadata": {
    "collapsed": true,
    "pycharm": {
     "is_executing": false
    }
   },
   "outputs": [],
   "source": [
    "file_path = data_path + \"/location_temp.csv\"\n",
    "df1 = spark.read.format(\"csv\").option(\"header\", \"true\").load(file_path)"
   ]
  },
  {
   "cell_type": "code",
   "execution_count": 15,
   "metadata": {
    "pycharm": {
     "is_executing": false
    }
   },
   "outputs": [
    {
     "name": "stdout",
     "text": [
      "+-------------------+-----------+------------+\n|         event_date|location_id|temp_celcius|\n+-------------------+-----------+------------+\n|03/04/2019 19:48:06|       loc0|          29|\n|03/04/2019 19:53:06|       loc0|          27|\n|03/04/2019 19:58:06|       loc0|          28|\n|03/04/2019 20:03:06|       loc0|          30|\n|03/04/2019 20:08:06|       loc0|          27|\n|03/04/2019 20:13:06|       loc0|          27|\n|03/04/2019 20:18:06|       loc0|          27|\n|03/04/2019 20:23:06|       loc0|          29|\n|03/04/2019 20:28:06|       loc0|          32|\n|03/04/2019 20:33:06|       loc0|          35|\n+-------------------+-----------+------------+\nonly showing top 10 rows\n\n"
     ],
     "output_type": "stream"
    }
   ],
   "source": [
    "df1.show(10)"
   ]
  },
  {
   "cell_type": "code",
   "execution_count": 5,
   "metadata": {
    "collapsed": true,
    "pycharm": {
     "is_executing": false
    }
   },
   "outputs": [],
   "source": [
    "df1.write.csv('df1.csv')"
   ]
  },
  {
   "cell_type": "code",
   "execution_count": 6,
   "metadata": {
    "pycharm": {
     "is_executing": false
    }
   },
   "outputs": [
    {
     "name": "stdout",
     "text": [
      " Volume in drive C is Windows\n Volume Serial Number is FCE9-4D82\n\n Directory of C:\\Users\\jgodoi1\\PycharmProjects\\learning_pyspark\\linkedin_learning_sql_df\\CH 03\\begin\\df1.csv\n\n05/11/2019  12:55    <DIR>          .\n05/11/2019  12:55    <DIR>          ..\n05/11/2019  12:55            38.556 .part-00000-93f4566b-09b4-4605-ae8b-a95534f25389-c000.csv.crc\n05/11/2019  12:55            38.528 .part-00001-93f4566b-09b4-4605-ae8b-a95534f25389-c000.csv.crc\n05/11/2019  12:55            38.528 .part-00002-93f4566b-09b4-4605-ae8b-a95534f25389-c000.csv.crc\n05/11/2019  12:55             4.668 .part-00003-93f4566b-09b4-4605-ae8b-a95534f25389-c000.csv.crc\n05/11/2019  12:55                 8 ._SUCCESS.crc\n05/11/2019  12:55         4.933.762 part-00000-93f4566b-09b4-4605-ae8b-a95534f25389-c000.csv\n05/11/2019  12:55         4.930.116 part-00001-93f4566b-09b4-4605-ae8b-a95534f25389-c000.csv\n05/11/2019  12:55         4.930.116 part-00002-93f4566b-09b4-4605-ae8b-a95534f25389-c000.csv\n05/11/2019  12:55           596.006 part-00003-93f4566b-09b4-4605-ae8b-a95534f25389-c000.csv\n05/11/2019  12:55                 0 _SUCCESS\n              10 File(s)     15.510.288 bytes\n               2 Dir(s)  15.720.398.848 bytes free\n"
     ],
     "output_type": "stream"
    }
   ],
   "source": [
    "! dir df1.csv"
   ]
  },
  {
   "cell_type": "code",
   "execution_count": 7,
   "metadata": {
    "pycharm": {
     "is_executing": false
    }
   },
   "outputs": [
    {
     "name": "stderr",
     "text": [
      "'head' is not recognized as an internal or external command,\noperable program or batch file.\n"
     ],
     "output_type": "stream"
    }
   ],
   "source": [
    "! head df1.csv/part-00000-6acba7df-96c8-4660-bf0f-6b4e37010a93-c000.csv"
   ]
  },
  {
   "cell_type": "code",
   "execution_count": 8,
   "metadata": {
    "collapsed": true,
    "pycharm": {
     "is_executing": false
    }
   },
   "outputs": [],
   "source": [
    "df1.write.json('df1.json')"
   ]
  },
  {
   "cell_type": "code",
   "execution_count": 9,
   "metadata": {
    "pycharm": {
     "is_executing": false
    }
   },
   "outputs": [
    {
     "name": "stdout",
     "text": [
      " Volume in drive C is Windows\n Volume Serial Number is FCE9-4D82\n\n Directory of C:\\Users\\jgodoi1\\PycharmProjects\\learning_pyspark\\linkedin_learning_sql_df\\CH 03\\begin\\df1.json\n\n05/11/2019  12:56    <DIR>          .\n05/11/2019  12:56    <DIR>          ..\n05/11/2019  12:56           100.840 .part-00000-a5185df3-bbcf-4da2-837e-d4b63e500f20-c000.json.crc\n05/11/2019  12:56            99.408 .part-00001-a5185df3-bbcf-4da2-837e-d4b63e500f20-c000.json.crc\n05/11/2019  12:56            99.408 .part-00002-a5185df3-bbcf-4da2-837e-d4b63e500f20-c000.json.crc\n05/11/2019  12:56            12.028 .part-00003-a5185df3-bbcf-4da2-837e-d4b63e500f20-c000.json.crc\n05/11/2019  12:56                 8 ._SUCCESS.crc\n05/11/2019  12:56        12.906.160 part-00000-a5185df3-bbcf-4da2-837e-d4b63e500f20-c000.json\n05/11/2019  12:56        12.722.880 part-00001-a5185df3-bbcf-4da2-837e-d4b63e500f20-c000.json\n05/11/2019  12:56        12.722.880 part-00002-a5185df3-bbcf-4da2-837e-d4b63e500f20-c000.json\n05/11/2019  12:56         1.538.080 part-00003-a5185df3-bbcf-4da2-837e-d4b63e500f20-c000.json\n05/11/2019  12:56                 0 _SUCCESS\n              10 File(s)     40.201.692 bytes\n               2 Dir(s)  15.679.754.240 bytes free\n"
     ],
     "output_type": "stream"
    }
   ],
   "source": [
    "! dir df1.json"
   ]
  },
  {
   "cell_type": "code",
   "execution_count": null,
   "metadata": {},
   "outputs": [],
   "source": [
    "! head df1.json/part-00000-4489eb2e-cb1a-444c-8739-76647ab4ac74-c000.json"
   ]
  }
 ],
 "metadata": {
  "kernelspec": {
   "display_name": "Python 3",
   "language": "python",
   "name": "python3"
  },
  "language_info": {
   "codemirror_mode": {
    "name": "ipython",
    "version": 3
   },
   "file_extension": ".py",
   "mimetype": "text/x-python",
   "name": "python",
   "nbconvert_exporter": "python",
   "pygments_lexer": "ipython3",
   "version": "3.6.1"
  },
  "pycharm": {
   "stem_cell": {
    "cell_type": "raw",
    "source": [],
    "metadata": {
     "collapsed": false
    }
   }
  }
 },
 "nbformat": 4,
 "nbformat_minor": 2
}