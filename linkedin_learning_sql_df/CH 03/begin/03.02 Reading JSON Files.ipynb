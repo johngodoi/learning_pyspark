{
 "cells": [
  {
   "cell_type": "code",
   "execution_count": 1,
   "outputs": [],
   "source": [
    "from pyspark.sql import SparkSession\n",
    "spark = SparkSession.builder.getOrCreate()"
   ],
   "metadata": {
    "collapsed": false,
    "pycharm": {
     "name": "#%%\n",
     "is_executing": false
    }
   }
  },
  {
   "cell_type": "code",
   "execution_count": 2,
   "metadata": {
    "collapsed": true,
    "pycharm": {
     "is_executing": false
    }
   },
   "outputs": [],
   "source": [
    "data_path = '../../Data'"
   ]
  },
  {
   "cell_type": "code",
   "execution_count": 3,
   "metadata": {
    "collapsed": true,
    "pycharm": {
     "is_executing": false
    }
   },
   "outputs": [],
   "source": [
    "json_df1_path = data_path + \"/location_temp.json\"\n",
    "df1 = spark.read.format(\"json\").load(json_df1_path)"
   ]
  },
  {
   "cell_type": "code",
   "execution_count": 4,
   "metadata": {
    "collapsed": true,
    "pycharm": {
     "is_executing": false
    }
   },
   "outputs": [],
   "source": [
    "json_df2_path = data_path + \"/utilization.json\"\n",
    "df2 = spark.read.format(\"json\").load(json_df2_path)"
   ]
  },
  {
   "cell_type": "code",
   "execution_count": 5,
   "metadata": {
    "pycharm": {
     "is_executing": false
    }
   },
   "outputs": [
    {
     "data": {
      "text/plain": "500000"
     },
     "metadata": {},
     "output_type": "execute_result",
     "execution_count": 5
    }
   ],
   "source": [
    "df1.count()"
   ]
  },
  {
   "cell_type": "code",
   "execution_count": 6,
   "metadata": {
    "pycharm": {
     "is_executing": false
    }
   },
   "outputs": [
    {
     "data": {
      "text/plain": "[Row(event_date='03/04/2019 19:48:06', location_id='loc0', temp_celcius='29'),\n Row(event_date='03/04/2019 19:53:06', location_id='loc0', temp_celcius='27'),\n Row(event_date='03/04/2019 19:58:06', location_id='loc0', temp_celcius='28'),\n Row(event_date='03/04/2019 20:03:06', location_id='loc0', temp_celcius='30'),\n Row(event_date='03/04/2019 20:08:06', location_id='loc0', temp_celcius='27'),\n Row(event_date='03/04/2019 20:13:06', location_id='loc0', temp_celcius='27'),\n Row(event_date='03/04/2019 20:18:06', location_id='loc0', temp_celcius='27'),\n Row(event_date='03/04/2019 20:23:06', location_id='loc0', temp_celcius='29'),\n Row(event_date='03/04/2019 20:28:06', location_id='loc0', temp_celcius='32'),\n Row(event_date='03/04/2019 20:33:06', location_id='loc0', temp_celcius='35')]"
     },
     "metadata": {},
     "output_type": "execute_result",
     "execution_count": 6
    }
   ],
   "source": [
    "df1.head(10)"
   ]
  },
  {
   "cell_type": "code",
   "execution_count": 7,
   "metadata": {
    "pycharm": {
     "is_executing": false
    }
   },
   "outputs": [
    {
     "data": {
      "text/plain": "500000"
     },
     "metadata": {},
     "output_type": "execute_result",
     "execution_count": 7
    }
   ],
   "source": [
    "df2.count()"
   ]
  },
  {
   "cell_type": "code",
   "execution_count": 8,
   "metadata": {
    "pycharm": {
     "is_executing": false
    }
   },
   "outputs": [
    {
     "name": "stdout",
     "text": [
      "+---------------+-------------------+-----------+---------+-------------+\n|cpu_utilization|     event_datetime|free_memory|server_id|session_count|\n+---------------+-------------------+-----------+---------+-------------+\n|           0.77|03/16/2019 17:21:40|       0.22|      115|           58|\n|           0.53|03/16/2019 17:26:40|       0.23|      115|           64|\n|            0.6|03/16/2019 17:31:40|       0.19|      115|           82|\n|           0.46|03/16/2019 17:36:40|       0.32|      115|           60|\n|           0.77|03/16/2019 17:41:40|       0.49|      115|           84|\n|           0.62|03/16/2019 17:46:40|       0.31|      115|           73|\n|           0.71|03/16/2019 17:51:40|       0.54|      115|           67|\n|           0.67|03/16/2019 17:56:40|       0.54|      115|           83|\n|           0.72|03/16/2019 18:01:40|       0.26|      115|           68|\n|           0.62|03/16/2019 18:06:40|       0.52|      115|           60|\n|           0.58|03/16/2019 18:11:40|       0.23|      115|           60|\n|           0.51|03/16/2019 18:16:40|       0.35|      115|           62|\n|           0.54|03/16/2019 18:21:40|       0.33|      115|           78|\n|           0.84|03/16/2019 18:26:40|       0.35|      115|           66|\n|           0.65|03/16/2019 18:31:40|       0.51|      115|           89|\n|            0.8|03/16/2019 18:36:40|       0.25|      115|           76|\n|           0.66|03/16/2019 18:41:40|       0.41|      115|           87|\n|           0.67|03/16/2019 18:46:40|       0.36|      115|           62|\n|           0.63|03/16/2019 18:51:40|       0.54|      115|           67|\n|           0.51|03/16/2019 18:56:40|       0.51|      115|           58|\n+---------------+-------------------+-----------+---------+-------------+\nonly showing top 20 rows\n\n"
     ],
     "output_type": "stream"
    }
   ],
   "source": [
    "df2.show()"
   ]
  },
  {
   "cell_type": "code",
   "execution_count": 9,
   "metadata": {
    "pycharm": {
     "is_executing": false
    }
   },
   "outputs": [
    {
     "name": "stderr",
     "text": [
      "'ls' is not recognized as an internal or external command,\noperable program or batch file.\n"
     ],
     "output_type": "stream"
    }
   ],
   "source": [
    "! ls '/Users/danielsullivan/LinkedIn Learning/Spark SQL/data'"
   ]
  },
  {
   "cell_type": "code",
   "execution_count": null,
   "metadata": {},
   "outputs": [],
   "source": [
    "! ls '/Users/danielsullivan/LinkedIn Learning/Spark SQL/data/location_temp.json'"
   ]
  },
  {
   "cell_type": "code",
   "execution_count": null,
   "metadata": {},
   "outputs": [],
   "source": [
    "! ls '/Users/danielsullivan/LinkedIn Learning/Spark SQL/data/utilization.json'"
   ]
  }
 ],
 "metadata": {
  "kernelspec": {
   "display_name": "Python 3",
   "language": "python",
   "name": "python3"
  },
  "language_info": {
   "codemirror_mode": {
    "name": "ipython",
    "version": 3
   },
   "file_extension": ".py",
   "mimetype": "text/x-python",
   "name": "python",
   "nbconvert_exporter": "python",
   "pygments_lexer": "ipython3",
   "version": "3.6.1"
  },
  "pycharm": {
   "stem_cell": {
    "cell_type": "raw",
    "source": [],
    "metadata": {
     "collapsed": false
    }
   }
  }
 },
 "nbformat": 4,
 "nbformat_minor": 2
}